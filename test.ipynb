{
 "cells": [
  {
   "cell_type": "code",
   "execution_count": 2,
   "id": "7cf019eb",
   "metadata": {},
   "outputs": [],
   "source": [
    "import mindspore\n",
    "import  sys\n",
    "import  time\n",
    "import  glob\n",
    "import  numpy as np\n",
    "import  logging\n",
    "import  argparse\n",
    "import os\n",
    "\n",
    "from mindspore.train.callback import ModelCheckpoint, CheckpointConfig, LossMonitor,TimeMonitor\n",
    "from mindspore import Tensor, Model\n",
    "\n",
    "from mindspore import context, DatasetHelper, connect_network_with_dataset\n",
    "from mindspore import dtype as mstype\n",
    "from mindspore import nn,DynamicLossScaleManager\n",
    "from mindspore.parallel._utils import _get_device_num\n",
    "\n",
    "from mindspore.common import set_seed\n",
    "from mindspore.context import ParallelMode\n",
    "from mindspore.communication.management import init, get_rank, get_group_size\n",
    "from nlr import NLRNet\n",
    "from mindspore import dtype as mstype\n",
    "from loss import do_Loss\n",
    "\n",
    "from data import get_dataset\n"
   ]
  },
  {
   "cell_type": "code",
   "execution_count": 3,
   "id": "688bb691",
   "metadata": {},
   "outputs": [],
   "source": [
    "context.set_context(mode=context.PYNATIVE_MODE, device_target=\"GPU\")"
   ]
  },
  {
   "cell_type": "code",
   "execution_count": 4,
   "id": "ba88dc53",
   "metadata": {},
   "outputs": [],
   "source": [
    "random_seed = 1996\n",
    "np.random.seed(random_seed)"
   ]
  },
  {
   "cell_type": "code",
   "execution_count": 6,
   "id": "d3de5fc6",
   "metadata": {},
   "outputs": [
    {
     "name": "stdout",
     "output_type": "stream",
     "text": [
      "/dataset/WorldView2_reduce/reduce\n",
      "record_1.mat\n",
      "record_4.mat\n",
      "record_3.mat\n",
      "record_8.mat\n",
      "record_6.mat\n",
      "record_5.mat\n",
      "record_9.mat\n",
      "record_7.mat\n",
      "16 576\n"
     ]
    }
   ],
   "source": [
    "net = NLRNet()\n",
    "mindspore.load_checkpoint('/code/uldr-23_700.ckpt',net)\n",
    "net.set_train(False)\n",
    "data = get_dataset(train='test')\n",
    "batch_num = data.train_dataset.get_dataset_size()\n",
    "#rank = set_device(args)\n"
   ]
  },
  {
   "cell_type": "code",
   "execution_count": 5,
   "id": "4dc4ee6a",
   "metadata": {},
   "outputs": [
    {
     "data": {
      "text/plain": [
       "36"
      ]
     },
     "execution_count": 5,
     "metadata": {},
     "output_type": "execute_result"
    }
   ],
   "source": [
    "data.train_dataset.get_dataset_size() "
   ]
  },
  {
   "cell_type": "code",
   "execution_count": 7,
   "id": "7016c504",
   "metadata": {},
   "outputs": [
    {
     "data": {
      "text/plain": [
       "0"
      ]
     },
     "execution_count": 7,
     "metadata": {},
     "output_type": "execute_result"
    }
   ],
   "source": [
    "576%16"
   ]
  },
  {
   "cell_type": "code",
   "execution_count": 5,
   "id": "acb45c78",
   "metadata": {},
   "outputs": [],
   "source": [
    "it = data.train_dataset.create_dict_iterator()"
   ]
  },
  {
   "cell_type": "code",
   "execution_count": 6,
   "id": "fbcd1f98",
   "metadata": {},
   "outputs": [],
   "source": [
    "data_ = next(it)"
   ]
  },
  {
   "cell_type": "code",
   "execution_count": 7,
   "id": "95ea7969",
   "metadata": {},
   "outputs": [
    {
     "data": {
      "text/plain": [
       "5"
      ]
     },
     "execution_count": 7,
     "metadata": {},
     "output_type": "execute_result"
    }
   ],
   "source": [
    "len(data_)"
   ]
  },
  {
   "cell_type": "code",
   "execution_count": 21,
   "id": "a459507e",
   "metadata": {},
   "outputs": [],
   "source": [
    "key = list(data_.keys())"
   ]
  },
  {
   "cell_type": "code",
   "execution_count": 22,
   "id": "78e6e153",
   "metadata": {},
   "outputs": [
    {
     "data": {
      "text/plain": [
       "'input_images0'"
      ]
     },
     "execution_count": 22,
     "metadata": {},
     "output_type": "execute_result"
    }
   ],
   "source": [
    "key[0]"
   ]
  },
  {
   "cell_type": "code",
   "execution_count": 7,
   "id": "00693ccd",
   "metadata": {},
   "outputs": [],
   "source": [
    "from tools import sam, ergas, scc, D_lambda, D_s, qindex"
   ]
  },
  {
   "cell_type": "code",
   "execution_count": null,
   "id": "8bb7881a",
   "metadata": {},
   "outputs": [],
   "source": []
  },
  {
   "cell_type": "code",
   "execution_count": 8,
   "id": "39c9c8cc",
   "metadata": {},
   "outputs": [],
   "source": [
    "def process_output(collect_output, collect_label, vol_nums):\n",
    "    # remove rest output\n",
    "    if vol_nums != 0:\n",
    "\n",
    "        collect_output[-1] = collect_output[-1][-vol_nums:, :, :, :]\n",
    "        collect_label[-1] = collect_label[-1][-vol_nums:, :, :, :]\n",
    "\n",
    "    # condat all batchsize\n",
    "    collect_output = np.row_stack(np.array(collect_output))\n",
    "    collect_label = np.row_stack(np.array(collect_label))\n",
    "\n",
    "    # slice net output\n",
    "    collect_output[collect_output < 0] = 0\n",
    "    collect_output[collect_output > 1] = 1\n",
    "\n",
    "    return collect_output, collect_label"
   ]
  },
  {
   "cell_type": "code",
   "execution_count": 9,
   "id": "95f30759",
   "metadata": {},
   "outputs": [],
   "source": [
    "def ref_assement(collect_output, collect_label):\n",
    "    \"\"\"down_resolution index test\"\"\"\n",
    "    h, w, c = collect_output[0].shape\n",
    "    element_nums = h * w * c\n",
    "    _sam, _erags, _scc, _qn = [], [], [], []\n",
    "    for item in range(collect_output.shape[0]):\n",
    "        label_block = collect_label[item, :, :, :]\n",
    "        output_block = collect_output[item, :, :, :]\n",
    "\n",
    "        if len(label_block[label_block == 0]) / element_nums > 0.5:\n",
    "            continue\n",
    "\n",
    "        _sam.append(sam(label_block, output_block))\n",
    "        _erags.append(ergas(output_block, label_block))\n",
    "        _scc.append(scc(output_block, label_block))\n",
    "        _qn.append(qindex(output_block, label_block, block_size=128))\n",
    "    return _sam,_erags,_scc,_qn"
   ]
  },
  {
   "cell_type": "code",
   "execution_count": 10,
   "id": "38570479",
   "metadata": {},
   "outputs": [],
   "source": [
    "collect_output, collect_label = [], []\n",
    "for data_ in data.train_dataset.create_dict_iterator():\n",
    "    keys = list(data_.keys())\n",
    "    out = net(data_[keys[0]],data_[keys[1]],data_[keys[2]],data_[keys[3]])\n",
    "    out_numpy = out.transpose(0,2,3,1).asnumpy()\n",
    "    label_numpy = data_[keys[4]].transpose(0,2,3,1).asnumpy()\n",
    "    collect_output.append(out_numpy)\n",
    "    collect_label.append(label_numpy)\n",
    "output, label = process_output(collect_output, collect_label, vol_nums = 16)\n",
    "sam,erags,scc,qn = ref_assement(output, label)"
   ]
  },
  {
   "cell_type": "code",
   "execution_count": 15,
   "id": "ba2311c3",
   "metadata": {},
   "outputs": [
    {
     "data": {
      "text/plain": [
       "0.11348307279760134"
      ]
     },
     "execution_count": 15,
     "metadata": {},
     "output_type": "execute_result"
    }
   ],
   "source": [
    "np.array(sam).mean()"
   ]
  },
  {
   "cell_type": "code",
   "execution_count": 16,
   "id": "ec066e08",
   "metadata": {},
   "outputs": [
    {
     "data": {
      "text/plain": [
       "0.7185041177639572"
      ]
     },
     "execution_count": 16,
     "metadata": {},
     "output_type": "execute_result"
    }
   ],
   "source": [
    "np.array(qn).mean()"
   ]
  },
  {
   "cell_type": "code",
   "execution_count": 11,
   "id": "ef4fd622",
   "metadata": {},
   "outputs": [
    {
     "data": {
      "text/plain": [
       "2.2912718881350114"
      ]
     },
     "execution_count": 11,
     "metadata": {},
     "output_type": "execute_result"
    }
   ],
   "source": [
    "np.array(erags).mean()"
   ]
  },
  {
   "cell_type": "code",
   "execution_count": null,
   "id": "b0a00879",
   "metadata": {},
   "outputs": [],
   "source": []
  }
 ],
 "metadata": {
  "kernelspec": {
   "display_name": "Python 3 (ipykernel)",
   "language": "python",
   "name": "python3"
  },
  "language_info": {
   "codemirror_mode": {
    "name": "ipython",
    "version": 3
   },
   "file_extension": ".py",
   "mimetype": "text/x-python",
   "name": "python",
   "nbconvert_exporter": "python",
   "pygments_lexer": "ipython3",
   "version": "3.7.11"
  }
 },
 "nbformat": 4,
 "nbformat_minor": 5
}
